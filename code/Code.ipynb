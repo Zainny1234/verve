{
 "cells": [
  {
   "cell_type": "markdown",
   "metadata": {},
   "source": [
    "# CODING ASSIGNMENT\n"
   ]
  },
  {
   "cell_type": "code",
   "execution_count": 2,
   "metadata": {
    "application/vnd.databricks.v1+cell": {
     "cellMetadata": {
      "byteLimit": 2048000,
      "rowLimit": 10000
     },
     "inputWidgets": {},
     "nuid": "6a5f28fb-8335-42ce-96a2-e88f2e13f171",
     "showTitle": false,
     "tableResultSettingsMap": {},
     "title": ""
    }
   },
   "outputs": [],
   "source": [
    "data = [\n",
    "    1822, 1917, 1642, 1617, 1941, 1740, 1529, 1896, 1880, 568, 1897, 1521, 1832, 1936, 611, 1475, 1950, 1895, 1532, 1721, \n",
    "    1498, 1905, 1770, 1845, 2003, 1854, 1705, 1916, 1913, 1956, 1798, 1823, 1955, 1713, 1942, 1710, 1696, 1590, 1966, 1476, \n",
    "    1800, 1672, 1533, 1524, 1957, 1923, 1545, 534, 1707, 1760, 1104, 1471, 1947, 1802, 1525, 1931, 1653, 1608, 1937, 1977, \n",
    "    1598, 1470, 1794, 1488, 1786, 1652, 1482, 1603, 1667, 1245, 1478, 667, 1948, 1885, 547, 1971, 1795, 1910, 1571, 1711, \n",
    "    1727, 1987, 1597, 1586, 1661, 1893, 1873, 1827, 1561, 2006, 1782, 1813, 2000, 1592, 1714, 1849, 1501, 1809, 1751, 1935, \n",
    "    1692, 1697, 1878, 1502, 1738, 1731, 1682, 1690, 1499, 1641, 1925, 1996, 1972, 1886, 1836, 1747, 1841, 1668, 715, 1698, \n",
    "    1859, 1637, 1477, 1785, 1695, 1702, 1944, 1631, 1771, 1623, 1892, 1466, 1834, 1899, 201, 1801, 1978, 1830, 1591, 1673, \n",
    "    1949, 1846, 1677, 1657, 1576, 1817, 1851, 1894, 1754, 1604, 1568, 1730, 1985, 1614, 1980, 1554, 1997, 1960, 1983, 1848, \n",
    "    1883, 1968, 1729, 1716, 628, 1472, 1676, 1943, 1821, 1681, 1619, 1644, 842, 1492, 1633, 1921, 775, 1861, 1584, 1974, \n",
    "    585, 1898, 1560, 1708, 1927, 1563, 1872, 1876, 1865, 1535, 1994, 1756, 1662, 1621, 1993, 1825, 1679, 1959, 1691, 1875\n",
    "]"
   ]
  },
  {
   "cell_type": "markdown",
   "metadata": {},
   "source": [
    "### Problem 1 : Find two numbers that sum to a given target value and find their product"
   ]
  },
  {
   "cell_type": "markdown",
   "metadata": {},
   "source": [
    "#### Approach 1 : Two pointer approach\n",
    "1. We initialize two pointers: one starting at the beginning of the array (left pointer) and the other starting at the end of the array (right pointer).\n",
    "2. We enter a loop where we keep checking the sum of the elements pointed to by the left and right pointers.\n",
    "3. If the sum is equal to the target, we have found our pair.\n",
    "4. If the sum is less than the target, we move the left pointer to the right (increment left) to increase the sum.\n",
    "5. If the sum is greater than the target, we move the right pointer to the left (decrement right) to decrease the sum.\n",
    "6. The loop terminates when the left pointer is no longer less than the right pointer. If no pair is found by then, the function returns None.\n",
    "##### Time complexity :O(nlogn)\n",
    "##### Space complexity :O(1)"
   ]
  },
  {
   "cell_type": "code",
   "execution_count": 3,
   "metadata": {
    "application/vnd.databricks.v1+cell": {
     "cellMetadata": {
      "byteLimit": 2048000,
      "rowLimit": 10000
     },
     "inputWidgets": {},
     "nuid": "82dfc12d-88f9-4843-8bf4-23fa97e90648",
     "showTitle": false,
     "tableResultSettingsMap": {},
     "title": ""
    }
   },
   "outputs": [
    {
     "name": "stdout",
     "output_type": "stream",
     "text": [
      "Numbers: 775, 1245\n",
      "Product: 964875\n"
     ]
    }
   ],
   "source": [
    "def two_sum_two_pointers(data, target):\n",
    "    data.sort()\n",
    "    left, right = 0, len(data) - 1\n",
    "    while left < right:\n",
    "        current_sum = data[left] + data[right]\n",
    "        if current_sum == target:\n",
    "            return data[left], data[right]\n",
    "        elif current_sum < target:\n",
    "            left += 1\n",
    "        else:\n",
    "            right -= 1\n",
    "    return None\n",
    "\n",
    "n1, n2 = two_sum_two_pointers(data, 2020)\n",
    "if n1 and n2:\n",
    "    print(f\"Numbers: {n1}, {n2}\")\n",
    "    print(f\"Product: {n1 * n2}\")"
   ]
  },
  {
   "cell_type": "markdown",
   "metadata": {},
   "source": [
    "#### Approach 2: Hash map\n",
    "\n",
    "1. We start by initializing an empty hash map (num_map).\n",
    "   This hash map will be used to store numbers as we iterate through the list, allowing us to quickly check if the complement (i.e., the        number that, when added to the current number, equals the target) has been seen before.\n",
    "\n",
    "2. We iterate through each number in the list (data).\n",
    "   For each number (num), we calculate its complement (complement = target - num).\n",
    "\n",
    "3. If the complement exists in the hash map (if complement in num_map), it means we have found a pair of numbers (complement and num) that      sum up to the target.We then return this pair of numbers.\n",
    "\n",
    "4. If the complement is not found in the hash map, we add the current number to the hash map (num_map[num] = True).\n",
    "   This ensures that we can check for this number as a complement for future numbers in the list.\n",
    "   Return None if No Pair Found:\n",
    "\n",
    "If we complete the iteration without finding any such pair, the function returns None.\n",
    "\n",
    "##### Time complexity:O(n)\n",
    "##### Space complexity: O(n)"
   ]
  },
  {
   "cell_type": "code",
   "execution_count": 4,
   "metadata": {
    "application/vnd.databricks.v1+cell": {
     "cellMetadata": {
      "byteLimit": 2048000,
      "rowLimit": 10000
     },
     "inputWidgets": {},
     "nuid": "cc99ab2f-c231-4331-bc1d-7c04e9a8d770",
     "showTitle": false,
     "tableResultSettingsMap": {},
     "title": ""
    }
   },
   "outputs": [
    {
     "name": "stdout",
     "output_type": "stream",
     "text": [
      "Numbers: 775, 1245\n",
      "Product: 964875\n"
     ]
    }
   ],
   "source": [
    "def two_sum_hash_map(data, target):\n",
    "    num_map = {}\n",
    "    for num in data:\n",
    "        complement = target - num\n",
    "        if complement in num_map:\n",
    "            return complement, num\n",
    "        num_map[num] = True\n",
    "    return None\n",
    "\n",
    "n1, n2 = two_sum_hash_map(data, 2020)\n",
    "if n1 and n2:\n",
    "    print(f\"Numbers: {n1}, {n2}\")\n",
    "    print(f\"Product: {n1 * n2}\")"
   ]
  },
  {
   "cell_type": "markdown",
   "metadata": {},
   "source": [
    "### Problem 2 : Find three numbers that sum to a given target value and find their product"
   ]
  },
  {
   "cell_type": "markdown",
   "metadata": {},
   "source": [
    "#### Approach 1: Two pointer \n",
    "\n",
    "1. First, the list data is sorted using data.sort().\n",
    "   Sorting helps in efficiently using the two-pointer technique to find the triplets.\n",
    "\n",
    "2. The outer loop iterates through the list with index i ranging from 0 to len(data) - 2 , ensuring that there are at least three    elements left to form a triplet.\n",
    "\n",
    "3. For each element data[i], two pointers are initialized: left is set to i + 1 and right is set to len(data) - 1.\n",
    "  These pointers are used to find the other two elements that, together with data[i], sum up to the target.\n",
    "\n",
    "4. A while loop is used to move the left and right pointers towards each other as long as left is less than right.\n",
    "  Calculate the current sum of the three elements: current_sum = data[i] + data[left] + data[right].\n",
    "  If current_sum equals the target, the triplet is found, and the function returns these three numbers.\n",
    "  If current_sum is less than the target, increment the left pointer to increase the sum.\n",
    "  If current_sum is greater than the target, decrement the right pointer to decrease the sum.\n",
    "  Return None If No Triplet Found:\n",
    "  If the outer loop completes without finding any triplet that sums up to the target, the function returns None.\n",
    "\n",
    "##### Time complexity:O(n2)\n",
    "##### Space complexity:O(1) "
   ]
  },
  {
   "cell_type": "code",
   "execution_count": 5,
   "metadata": {
    "application/vnd.databricks.v1+cell": {
     "cellMetadata": {
      "byteLimit": 2048000,
      "rowLimit": 10000
     },
     "inputWidgets": {},
     "nuid": "566ac4d3-7c45-48c9-9140-484793b2f77c",
     "showTitle": false,
     "tableResultSettingsMap": {},
     "title": ""
    }
   },
   "outputs": [
    {
     "name": "stdout",
     "output_type": "stream",
     "text": [
      "Numbers: 201, 715, 1104\n",
      "Product: 158661360\n"
     ]
    }
   ],
   "source": [
    "def three_sum_two_pointers(data, target):\n",
    "    data.sort()\n",
    "    for i in range(len(data) - 2):\n",
    "        left, right = i + 1, len(data) - 1\n",
    "        while left < right:\n",
    "            current_sum = data[i] + data[left] + data[right]\n",
    "            if current_sum == target:\n",
    "                return data[i], data[left], data[right]\n",
    "            elif current_sum < target:\n",
    "                left += 1\n",
    "            else:\n",
    "                right -= 1\n",
    "    return None\n",
    "\n",
    "n1, n2, n3 = three_sum_two_pointers(data, 2020)\n",
    "if n1 and n2 and n3:\n",
    "    print(f\"Numbers: {n1}, {n2}, {n3}\")\n",
    "    print(f\"Product: {n1 * n2 * n3}\")"
   ]
  },
  {
   "cell_type": "markdown",
   "metadata": {},
   "source": [
    "#### Approach 2: Hash map\n",
    "\n",
    "1. The outer loop iterates through the list with index i ranging from 0 to len(data) - 2 . This ensures there are at least three elements left to form a triplet.\n",
    "\n",
    "2. For each element data[i], a new hash map num_map is initialized. This hash map will be used to keep track of the numbers we have seen so far in the current iteration of the inner loop.\n",
    "\n",
    "3. For the current data[i], calculate the current_target as target - data[i]. This current_target is the sum we need to find from the remaining elements in the list.\n",
    "\n",
    "4. The inner loop starts from i + 1 and iterates through the remaining elements of the list with index j.\n",
    "For each element data[j], calculate its complement as current_target - data[j].\n",
    "\n",
    "5. If the complement is found in the num_map, it means we have found a triplet (data[i], data[j], complement) that sums up to the target. The function then returns this triplet.\n",
    "If the complement is not found, add data[j] to the num_map with a value of True to mark it as seen.\n",
    "\n",
    "6. If the outer loop completes without finding any triplet that sums up to the target, the function returns None.\n",
    "\n",
    "##### Time complexity:O(n2)\n",
    "##### Space complexity: O(n)"
   ]
  },
  {
   "cell_type": "code",
   "execution_count": 6,
   "metadata": {
    "application/vnd.databricks.v1+cell": {
     "cellMetadata": {
      "byteLimit": 2048000,
      "rowLimit": 10000
     },
     "inputWidgets": {},
     "nuid": "e3da877b-0085-4f8a-8644-29f3865ba6cf",
     "showTitle": false,
     "tableResultSettingsMap": {},
     "title": ""
    }
   },
   "outputs": [
    {
     "name": "stdout",
     "output_type": "stream",
     "text": [
      "Numbers: 201, 1104, 715\n",
      "Product: 158661360\n"
     ]
    }
   ],
   "source": [
    "def three_sum_hash_map(data, target):\n",
    "    for i in range(len(data) - 2):\n",
    "        num_map = {}\n",
    "        current_target = target - data[i]\n",
    "        for j in range(i + 1, len(data)):\n",
    "            complement = current_target - data[j]\n",
    "            if complement in num_map:\n",
    "                return data[i], data[j], complement\n",
    "            num_map[data[j]] = True\n",
    "    return None\n",
    "\n",
    "n1, n2, n3 = three_sum_hash_map(data, 2020)\n",
    "if n1 and n2 and n3:\n",
    "    print(f\"Numbers: {n1}, {n2}, {n3}\")\n",
    "    print(f\"Product: {n1 * n2 * n3}\")"
   ]
  },
  {
   "cell_type": "code",
   "execution_count": null,
   "metadata": {},
   "outputs": [],
   "source": []
  }
 ],
 "metadata": {
  "application/vnd.databricks.v1+notebook": {
   "dashboards": [],
   "environmentMetadata": {
    "base_environment": "",
    "client": "1"
   },
   "language": "python",
   "notebookMetadata": {
    "pythonIndentUnit": 4
   },
   "notebookName": "Code",
   "widgets": {}
  },
  "kernelspec": {
   "display_name": "Python 3 (ipykernel)",
   "language": "python",
   "name": "python3"
  },
  "language_info": {
   "codemirror_mode": {
    "name": "ipython",
    "version": 3
   },
   "file_extension": ".py",
   "mimetype": "text/x-python",
   "name": "python",
   "nbconvert_exporter": "python",
   "pygments_lexer": "ipython3",
   "version": "3.12.2"
  }
 },
 "nbformat": 4,
 "nbformat_minor": 4
}
